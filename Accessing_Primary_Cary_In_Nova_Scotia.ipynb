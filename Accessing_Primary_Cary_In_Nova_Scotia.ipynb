{
 "cells": [
  {
   "cell_type": "markdown",
   "id": "991d7728-6cdf-47b4-8583-fe9005b14c6f",
   "metadata": {},
   "source": [
    "# Accessing Primary Care in Nova Scotia\n"
   ]
  },
  {
   "cell_type": "code",
   "execution_count": 10,
   "id": "72f23c71-b8ee-488c-81ab-21673789b34b",
   "metadata": {},
   "outputs": [],
   "source": [
    "from sqlalchemy import create_engine\n",
    "import pandas as pd\n",
    "import matplotlib.pyplot as plt"
   ]
  },
  {
   "cell_type": "markdown",
   "id": "7e19eeca-1c5f-4ea0-9555-cb9ef07b9d25",
   "metadata": {},
   "source": [
    "1. **`from sqlalchemy import create_engine`**: Imports the **`create_engine`** function from **SQLAlchemy** to connect to a database.\r\n",
    "2. **`import pandas as pd`**: Imports the **Pandas** library, which is a powerful tool for data manipulation and analysis.\r\n",
    "3. **`import matplotlib.pyplot as plt`**: Imports the **`pyplot`** module from **Matplotlib** for creating visualizations like charts and graphs.\r\n"
   ]
  },
  {
   "cell_type": "code",
   "execution_count": 11,
   "id": "1704237f-5951-4076-9e82-396d8a95f27b",
   "metadata": {},
   "outputs": [
    {
     "name": "stdout",
     "output_type": "stream",
     "text": [
      "Connection successful!\n"
     ]
    }
   ],
   "source": [
    "from sqlalchemy import create_engine\n",
    "\n",
    "\n",
    "server_name = 'DESKTOP-0N0LQTG'\n",
    "database_name = 'Nova_Scotia_Action_For_Health'\n",
    "\n",
    "\n",
    "connection_string = f'mssql+pyodbc://{server_name}/{database_name}?trusted_connection=yes&driver=ODBC+Driver+17+for+SQL+Server'\n",
    "\n",
    "\n",
    "engine = create_engine(connection_string)\n",
    "\n",
    "\n",
    "try:\n",
    "    with engine.connect() as conn:\n",
    "        print(\"Connection successful!\")\n",
    "except Exception as e:\n",
    "    print(f\"Connection failed: {str(e)}\")"
   ]
  },
  {
   "cell_type": "markdown",
   "id": "d0f8c211-4324-486d-b2aa-25526d112825",
   "metadata": {},
   "source": [
    "### Explanation\n",
    "\n",
    "#### Imports\n",
    "- **`from sqlalchemy import create_engine`**: Imports the `create_engine` function from sqlalchemy. This function is essential for creating a connection engine that allows Python to interact with a SQL database.\n",
    "\n",
    "#### Variables\n",
    "- **`server_name`**: `'DESKTOP-0N0LQTG'` \n",
    "- **`database_name`**: `'Nova_Scotia_Action_For_Health'`\n",
    "\n",
    "#### Constructing Connection String\n",
    "- Constructs a connection string using Python's f-string formatting:\n",
    "  - `mssql+pyodbc://`: Specifies the dialect and driver to use (MSSQL with PyODBC driver).\n",
    "  - `{server_name}/{database_name}`: Specifies the server and database to connect to.\n",
    "  - `trusted_connection=yes`: Indicates Windows authentication should be used, where the current Windows credentials are used to authenticate.\n",
    "  - `driver=ODBC+Driver+17+for+SQL+Server`: Specifies the ODBC driver to use for the connection. Adjust this according to the version of the ODBC driver installed on your system.\n",
    "\n",
    "#### Creating the Engine\n",
    "- Uses the `create_engine` function from sqlalchemy to create an engine (`engine`) object:\n",
    "  - The `connection_string` is passed as an argument to `create_engine`, configuring the engine to connect to the specified SQL Server instance and database using the specified authentication method and driver.\n",
    "\n",
    "#### Testing the Connection\n",
    "- Attempts to establish a connection to the SQL Server database using the `engine.connect()` method:\n",
    "  - If the connection is successful (`with` block), it prints \"Connection successful!\".\n",
    "  - If an exception occurs during the connection attempt (e.g., authentication error, network issue), the `except` block catches the exception (`Exception as e`), and it prints \"Connection failed: \" followed by the error message (`str(e)`).\n"
   ]
  },
  {
   "cell_type": "markdown",
   "id": "9d885520-4a4d-4124-a0a1-9de7ee78f76a",
   "metadata": {},
   "source": [
    "## Urgent Treatment Centre Visits by Zone for 2022 and 2023"
   ]
  },
  {
   "cell_type": "code",
   "execution_count": 12,
   "id": "b7d1a63f-ced5-420a-a96f-7c33693841c3",
   "metadata": {},
   "outputs": [
    {
     "data": {
      "text/html": [
       "<div>\n",
       "<style scoped>\n",
       "    .dataframe tbody tr th:only-of-type {\n",
       "        vertical-align: middle;\n",
       "    }\n",
       "\n",
       "    .dataframe tbody tr th {\n",
       "        vertical-align: top;\n",
       "    }\n",
       "\n",
       "    .dataframe thead th {\n",
       "        text-align: right;\n",
       "    }\n",
       "</style>\n",
       "<table border=\"1\" class=\"dataframe\">\n",
       "  <thead>\n",
       "    <tr style=\"text-align: right;\">\n",
       "      <th></th>\n",
       "      <th>Zone</th>\n",
       "      <th>UrgentTreatmentCentreVisits</th>\n",
       "    </tr>\n",
       "  </thead>\n",
       "  <tbody>\n",
       "    <tr>\n",
       "      <th>0</th>\n",
       "      <td>Central</td>\n",
       "      <td>6311</td>\n",
       "    </tr>\n",
       "    <tr>\n",
       "      <th>1</th>\n",
       "      <td>Eastern</td>\n",
       "      <td>47329</td>\n",
       "    </tr>\n",
       "    <tr>\n",
       "      <th>2</th>\n",
       "      <td>Northern</td>\n",
       "      <td>25735</td>\n",
       "    </tr>\n",
       "    <tr>\n",
       "      <th>3</th>\n",
       "      <td>Western</td>\n",
       "      <td>5747</td>\n",
       "    </tr>\n",
       "  </tbody>\n",
       "</table>\n",
       "</div>"
      ],
      "text/plain": [
       "       Zone  UrgentTreatmentCentreVisits\n",
       "0   Central                         6311\n",
       "1   Eastern                        47329\n",
       "2  Northern                        25735\n",
       "3   Western                         5747"
      ]
     },
     "metadata": {},
     "output_type": "display_data"
    }
   ],
   "source": [
    "\n",
    "query = \"\"\"\n",
    "SELECT\n",
    "    Zone,\n",
    "    SUM(Actual) AS UrgentTreatmentCentreVisits\n",
    "FROM\n",
    "    dbo.Accessing_Primary_Care_in_Nova_Scotia\n",
    "WHERE\n",
    "    [Measure_Name] = 'Visits were completed at Urgent Treatment Centres'\n",
    "    AND YEAR(Date) IN (2022, 2023)  -- Filter for years 2022 and 2023\n",
    "GROUP BY\n",
    "    Zone;\n",
    "\"\"\"\n",
    "\n",
    "try:\n",
    "    df = pd.read_sql_query(query, engine)\n",
    "    display(df) \n",
    "except Exception as e:\n",
    "    print(f\"Error executing SQL query: {str(e)}\")"
   ]
  },
  {
   "cell_type": "markdown",
   "id": "8ef4e8ae-49a9-4b46-a0af-8ae8743af121",
   "metadata": {},
   "source": [
    "### SQL Query Explanation\n",
    "\n",
    "- **Explanation**: Defines an SQL query to retrieve data from the `Accessing_Primary_Care_in_Nova_Scotia` table.\n",
    "- **Columns Selected**: Retrieves `Zone` and calculates the sum of `Actual` visits as `UrgentTreatmentCentreVisits`.\n",
    "- **Filters**: Includes rows where `Measure_Name` is 'Visits were completed at Urgent Treatment Centres' and where `Date` year is either 2022 or 2023.\n",
    "- **Grouping**: Groups results by `Zone`.\n",
    "\n",
    "### DataFrame Loading and Error Handling\n",
    "\n",
    "- **Explanation**: Executes the SQL query using Pandas `read_sql_query` function to fetch results from the SQL database (`engine`).\n",
    "- **Loading Data**: Loads the query results into a Pandas DataFrame `df`.\n",
    "- **Display**: Uses `display(df)` to show the DataFrame if in a Jupyter notebook environment.\n",
    "- **Error Handling**: Catches any exceptions (`Exception as e`) that occur during the SQL query execution and prints an error message indicating the issue (`Error executing SQL query: {str(e)}`).\n",
    "\n"
   ]
  },
  {
   "cell_type": "markdown",
   "id": "23c07d7a-42ac-4b8d-ae6b-06050a993d67",
   "metadata": {},
   "source": [
    "## Urgent Care Center Visits by Zone for 2022 and 2023"
   ]
  },
  {
   "cell_type": "code",
   "execution_count": 14,
   "id": "aaf21957-19d3-4dcc-9870-a4d0ed1e21da",
   "metadata": {},
   "outputs": [
    {
     "data": {
      "text/html": [
       "<div>\n",
       "<style scoped>\n",
       "    .dataframe tbody tr th:only-of-type {\n",
       "        vertical-align: middle;\n",
       "    }\n",
       "\n",
       "    .dataframe tbody tr th {\n",
       "        vertical-align: top;\n",
       "    }\n",
       "\n",
       "    .dataframe thead th {\n",
       "        text-align: right;\n",
       "    }\n",
       "</style>\n",
       "<table border=\"1\" class=\"dataframe\">\n",
       "  <thead>\n",
       "    <tr style=\"text-align: right;\">\n",
       "      <th></th>\n",
       "      <th>Zone</th>\n",
       "      <th>UrgentCareCentreVisits</th>\n",
       "    </tr>\n",
       "  </thead>\n",
       "  <tbody>\n",
       "    <tr>\n",
       "      <th>0</th>\n",
       "      <td>Central</td>\n",
       "      <td>8299</td>\n",
       "    </tr>\n",
       "    <tr>\n",
       "      <th>1</th>\n",
       "      <td>Western</td>\n",
       "      <td>6763</td>\n",
       "    </tr>\n",
       "  </tbody>\n",
       "</table>\n",
       "</div>"
      ],
      "text/plain": [
       "      Zone  UrgentCareCentreVisits\n",
       "0  Central                    8299\n",
       "1  Western                    6763"
      ]
     },
     "metadata": {},
     "output_type": "display_data"
    }
   ],
   "source": [
    "\n",
    "query = \"\"\"\n",
    "SELECT\n",
    "    Zone,\n",
    "    SUM(Actual) AS UrgentCareCentreVisits\n",
    "FROM\n",
    "    dbo.Accessing_Primary_Care_in_Nova_Scotia\n",
    "WHERE\n",
    "    [Measure_Name] = 'Visits were completed at Urgent Care Centres'\n",
    "    AND YEAR(Date) IN (2022, 2023)  -- Filter for years 2022 and 2023\n",
    "GROUP BY\n",
    "    Zone;\n",
    "\"\"\"\n",
    "\n",
    "\n",
    "try:\n",
    "    df = pd.read_sql_query(query, engine)\n",
    "    display(df)  \n",
    "except Exception as e:\n",
    "    print(f\"Error executing SQL query: {str(e)}\")"
   ]
  },
  {
   "cell_type": "markdown",
   "id": "8139941d-3150-4f95-96e7-b57ded980f9c",
   "metadata": {},
   "source": [
    "### Explanation\n",
    "\n",
    "#### SQL Query\n",
    "\n",
    "- **Explanation**: Defines an SQL query to retrieve data from the `Accessing_Primary_Care_in_Nova_Scotia` table.\n",
    "- **Columns Selected**: Retrieves `Zone` and calculates the sum of `Actual` visits as `UrgentCareCentreVisits`.\n",
    "- **Filters**: Includes rows where `Measure_Name` is 'Visits were completed at Urgent Care Centres' and where `Date` year is either 2022 or 2023.\n",
    "- **Grouping**: Groups results by `Zone`.\n",
    "\n",
    "#### Execute the Query and Load Results into a DataFrame\n",
    "\n",
    "- **Explanation**: Executes the SQL query using Pandas `read_sql_query` function to fetch results from the SQL database (`engine`).\n",
    "- **Loading Data**: Loads the query results into a Pandas DataFrame `df`.\n",
    "- **Display**: Uses `display(df)` to show the DataFrame if in a Jupyter notebook environment.\n",
    "- **Error Handling**: Catches any exceptions (`Exception as e`) that occur during the SQL query execution and prints an error message indicating the issue (`Error executing SQL query: {str(e)}`).\n"
   ]
  },
  {
   "cell_type": "markdown",
   "id": "9f1c2774-3593-463c-b531-6adc23062da6",
   "metadata": {},
   "source": [
    "## Primary Care Clinic Visits by Zone for 2022 and 2023"
   ]
  },
  {
   "cell_type": "code",
   "execution_count": 15,
   "id": "ec374c85-400f-43b7-b7ef-8f91445c56b2",
   "metadata": {},
   "outputs": [
    {
     "data": {
      "text/html": [
       "<div>\n",
       "<style scoped>\n",
       "    .dataframe tbody tr th:only-of-type {\n",
       "        vertical-align: middle;\n",
       "    }\n",
       "\n",
       "    .dataframe tbody tr th {\n",
       "        vertical-align: top;\n",
       "    }\n",
       "\n",
       "    .dataframe thead th {\n",
       "        text-align: right;\n",
       "    }\n",
       "</style>\n",
       "<table border=\"1\" class=\"dataframe\">\n",
       "  <thead>\n",
       "    <tr style=\"text-align: right;\">\n",
       "      <th></th>\n",
       "      <th>Zone</th>\n",
       "      <th>PrimaryCareClinicsVisits</th>\n",
       "    </tr>\n",
       "  </thead>\n",
       "  <tbody>\n",
       "    <tr>\n",
       "      <th>0</th>\n",
       "      <td>Central</td>\n",
       "      <td>11032</td>\n",
       "    </tr>\n",
       "    <tr>\n",
       "      <th>1</th>\n",
       "      <td>Eastern</td>\n",
       "      <td>24339</td>\n",
       "    </tr>\n",
       "    <tr>\n",
       "      <th>2</th>\n",
       "      <td>Northern</td>\n",
       "      <td>25398</td>\n",
       "    </tr>\n",
       "    <tr>\n",
       "      <th>3</th>\n",
       "      <td>Western</td>\n",
       "      <td>33764</td>\n",
       "    </tr>\n",
       "  </tbody>\n",
       "</table>\n",
       "</div>"
      ],
      "text/plain": [
       "       Zone  PrimaryCareClinicsVisits\n",
       "0   Central                     11032\n",
       "1   Eastern                     24339\n",
       "2  Northern                     25398\n",
       "3   Western                     33764"
      ]
     },
     "metadata": {},
     "output_type": "display_data"
    }
   ],
   "source": [
    "# Define the SQL query\n",
    "query = \"\"\"\n",
    "SELECT\n",
    "    Zone,\n",
    "    SUM(Actual) AS PrimaryCareClinicsVisits\n",
    "FROM\n",
    "    dbo.Accessing_Primary_Care_in_Nova_Scotia\n",
    "WHERE\n",
    "    [Measure_Name] = 'Visits were completed at Primary Care Clinics'\n",
    "    AND YEAR(Date) IN (2022, 2023)  -- Filter for years 2022 and 2023\n",
    "GROUP BY\n",
    "    Zone;\n",
    "\"\"\"\n",
    "\n",
    "\n",
    "try:\n",
    "    df = pd.read_sql_query(query, engine)\n",
    "    display(df)  \n",
    "except Exception as e:\n",
    "    print(f\"Error executing SQL query: {str(e)}\")"
   ]
  },
  {
   "cell_type": "markdown",
   "id": "b7e93d94-ebd9-47a7-bc04-a70d23eaa00b",
   "metadata": {},
   "source": [
    "### Explanation\n",
    "\n",
    "- **Explanation**: Defines an SQL query to retrieve data from the `Accessing_Primary_Care_in_Nova_Scotia` table.\n",
    "- **Columns Selected**: Retrieves `Zone` and calculates the sum of `Actual` visits as `PrimaryCareClinicsVisits`.\n",
    "- **Filters**: Includes rows where `Measure_Name` is 'Visits were completed at Primary Care Clinics' and where the `Date` year is either 2022 or 2023.\n"
   ]
  },
  {
   "cell_type": "markdown",
   "id": "ff5fad6c-5808-4187-8f72-eca0bf4b8ba9",
   "metadata": {},
   "source": [
    "## Mobile Clinic Visits by Zone for 2022 and 2023"
   ]
  },
  {
   "cell_type": "code",
   "execution_count": 16,
   "id": "11267a95-6574-4982-91a7-446e8ec44e4c",
   "metadata": {},
   "outputs": [
    {
     "data": {
      "text/html": [
       "<div>\n",
       "<style scoped>\n",
       "    .dataframe tbody tr th:only-of-type {\n",
       "        vertical-align: middle;\n",
       "    }\n",
       "\n",
       "    .dataframe tbody tr th {\n",
       "        vertical-align: top;\n",
       "    }\n",
       "\n",
       "    .dataframe thead th {\n",
       "        text-align: right;\n",
       "    }\n",
       "</style>\n",
       "<table border=\"1\" class=\"dataframe\">\n",
       "  <thead>\n",
       "    <tr style=\"text-align: right;\">\n",
       "      <th></th>\n",
       "      <th>Zone</th>\n",
       "      <th>MobilePrimaryCareClinicsVisits</th>\n",
       "    </tr>\n",
       "  </thead>\n",
       "  <tbody>\n",
       "    <tr>\n",
       "      <th>0</th>\n",
       "      <td>Central</td>\n",
       "      <td>12076</td>\n",
       "    </tr>\n",
       "    <tr>\n",
       "      <th>1</th>\n",
       "      <td>Eastern</td>\n",
       "      <td>1904</td>\n",
       "    </tr>\n",
       "    <tr>\n",
       "      <th>2</th>\n",
       "      <td>Northern</td>\n",
       "      <td>127</td>\n",
       "    </tr>\n",
       "    <tr>\n",
       "      <th>3</th>\n",
       "      <td>Unknown</td>\n",
       "      <td>898</td>\n",
       "    </tr>\n",
       "    <tr>\n",
       "      <th>4</th>\n",
       "      <td>Western</td>\n",
       "      <td>3388</td>\n",
       "    </tr>\n",
       "  </tbody>\n",
       "</table>\n",
       "</div>"
      ],
      "text/plain": [
       "       Zone  MobilePrimaryCareClinicsVisits\n",
       "0   Central                           12076\n",
       "1   Eastern                            1904\n",
       "2  Northern                             127\n",
       "3   Unknown                             898\n",
       "4   Western                            3388"
      ]
     },
     "metadata": {},
     "output_type": "display_data"
    }
   ],
   "source": [
    "# Define the SQL query\n",
    "query = \"\"\"\n",
    "SELECT\n",
    "    Zone,\n",
    "    SUM(Actual) AS MobilePrimaryCareClinicsVisits\n",
    "FROM\n",
    "    dbo.Accessing_Primary_Care_in_Nova_Scotia\n",
    "WHERE\n",
    "    [Measure_Name] = 'Visits were completed at Mobile Primary Care Clinics'\n",
    "    AND YEAR(Date) IN (2022, 2023)  -- Filter for years 2022 and 2023\n",
    "GROUP BY\n",
    "    Zone;\n",
    "\"\"\"\n",
    "\n",
    "\n",
    "try:\n",
    "    df = pd.read_sql_query(query, engine)\n",
    "    display(df)  \n",
    "except Exception as e:\n",
    "    print(f\"Error executing SQL query: {str(e)}\")"
   ]
  },
  {
   "cell_type": "markdown",
   "id": "7dcf4ac6-01b8-462b-a927-21fa515d0150",
   "metadata": {},
   "source": [
    "### Explanation\n",
    "\n",
    "- **Explanation**: Defines an SQL query to retrieve data from the `Accessing_Primary_Care_in_Nova_Scotia` table.\n",
    "- **Columns Selected**: Retrieves `Zone` and calculates the sum of `Actual` visits as `MobilePrimaryCareClinicsVisits`.\n",
    "- **Filters**: Includes rows where `Measure_Name` is 'Visits were completed at Mobile Primary Care Clinics' and where the `Date` year is either 2022 or 2023.\n",
    "- **Grouping**: Groups results by `Zone`.\n"
   ]
  }
 ],
 "metadata": {
  "kernelspec": {
   "display_name": "Python 3 (ipykernel)",
   "language": "python",
   "name": "python3"
  },
  "language_info": {
   "codemirror_mode": {
    "name": "ipython",
    "version": 3
   },
   "file_extension": ".py",
   "mimetype": "text/x-python",
   "name": "python",
   "nbconvert_exporter": "python",
   "pygments_lexer": "ipython3",
   "version": "3.10.13"
  }
 },
 "nbformat": 4,
 "nbformat_minor": 5
}
