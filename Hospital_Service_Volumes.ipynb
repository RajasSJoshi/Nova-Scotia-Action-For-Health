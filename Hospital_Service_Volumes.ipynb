{
 "cells": [
  {
   "cell_type": "markdown",
   "id": "669471a9-0a78-449d-a2b0-82e4ad4d506b",
   "metadata": {},
   "source": [
    "# Hospital Service Volumes"
   ]
  },
  {
   "cell_type": "code",
   "execution_count": 20,
   "id": "078b3ead-adc6-4012-8dbc-992e79d2ba76",
   "metadata": {},
   "outputs": [],
   "source": [
    "from sqlalchemy import create_engine\n",
    "import pandas as pd\n",
    "import matplotlib.pyplot as plt\n"
   ]
  },
  {
   "cell_type": "markdown",
   "id": "a46c6927-f526-40a1-81e3-52906cf15c03",
   "metadata": {},
   "source": [
    "1. **`from sqlalchemy import create_engine`**: Imports the **`create_engine`** function from **SQLAlchemy** to connect to a database.\n",
    "2. **`import pandas as pd`**: Imports the **Pandas** library, which is a powerful tool for data manipulation and analysis.\n",
    "3. **`import matplotlib.pyplot as plt`**: Imports the **`pyplot`** module from **Matplotlib** for creating visualizations like charts and graphs.\n"
   ]
  },
  {
   "cell_type": "code",
   "execution_count": 22,
   "id": "56f83919-c2dc-4011-9426-91df23fb91b5",
   "metadata": {},
   "outputs": [
    {
     "name": "stdout",
     "output_type": "stream",
     "text": [
      "Connection successful!\n"
     ]
    }
   ],
   "source": [
    "from sqlalchemy import create_engine\n",
    "\n",
    "\n",
    "server_name = 'DESKTOP-0N0LQTG'\n",
    "database_name = 'Nova_Scotia_Action_For_Health'\n",
    "\n",
    "\n",
    "connection_string = f'mssql+pyodbc://{server_name}/{database_name}?trusted_connection=yes&driver=ODBC+Driver+17+for+SQL+Server'\n",
    "\n",
    "\n",
    "engine = create_engine(connection_string)\n",
    "\n",
    "\n",
    "try:\n",
    "    with engine.connect() as conn:\n",
    "        print(\"Connection successful!\")\n",
    "except Exception as e:\n",
    "    print(f\"Connection failed: {str(e)}\")\n"
   ]
  },
  {
   "cell_type": "markdown",
   "id": "3f2f5154-ca2d-4471-96be-ae88224a89f3",
   "metadata": {},
   "source": [
    "### Explanation\n",
    "\n",
    "#### Imports\n",
    "- **`from sqlalchemy import create_engine`**: Imports the `create_engine` function from sqlalchemy. This function is essential for creating a connection engine that allows Python to interact with a SQL database.\n",
    "\n",
    "#### Variables\n",
    "- **`server_name`**: `'DESKTOP-0N0LQTG'` \n",
    "- **`database_name`**: `'Nova_Scotia_Action_For_Health'`\n",
    "\n",
    "#### Constructing Connection String\n",
    "- Constructs a connection string using Python's f-string formatting:\n",
    "  - `mssql+pyodbc://`: Specifies the dialect and driver to use (MSSQL with PyODBC driver).\n",
    "  - `{server_name}/{database_name}`: Specifies the server and database to connect to.\n",
    "  - `trusted_connection=yes`: Indicates Windows authentication should be used, where the current Windows credentials are used to authenticate.\n",
    "  - `driver=ODBC+Driver+17+for+SQL+Server`: Specifies the ODBC driver to use for the connection. Adjust this according to the version of the ODBC driver installed on your system.\n",
    "\n",
    "#### Creating the Engine\n",
    "- Uses the `create_engine` function from sqlalchemy to create an engine (`engine`) object:\n",
    "  - The `connection_string` is passed as an argument to `create_engine`, configuring the engine to connect to the specified SQL Server instance and database using the specified authentication method and driver.\n",
    "\n",
    "#### Testing the Connection\n",
    "- Attempts to establish a connection to the SQL Server database using the `engine.connect()` method:\n",
    "  - If the connection is successful (`with` block), it prints \"Connection successful!\".\n",
    "  - If an exception occurs during the connection attempt (e.g., authentication error, network issue), the `except` block catches the exception (`Exception as e`), and it prints \"Connection failed: \" followed by the error message (`str(e)`).\n"
   ]
  },
  {
   "cell_type": "markdown",
   "id": "2378ec9e-bace-4c3a-ad18-e78f7b90f33d",
   "metadata": {},
   "source": [
    "## Emergency Patient Canadian Triage and Acuity Scale (CTAS) Level Breakdown by Zone for 2022 and 2023"
   ]
  },
  {
   "cell_type": "code",
   "execution_count": 23,
   "id": "cae19bdb-c6ed-45cd-a28b-21c9824f7653",
   "metadata": {},
   "outputs": [
    {
     "name": "stdout",
     "output_type": "stream",
     "text": [
      "        Zone CTAS  Actual Actual (Percent of Total)\n",
      "0    Central    1    4369           1.140000000000%\n",
      "1    Central    2  103455          27.050000000000%\n",
      "2    Central    3  173253          45.300000000000%\n",
      "3    Central    4   94448          24.700000000000%\n",
      "4    Central    5    6901           1.800000000000%\n",
      "5    Eastern    1    1151           0.590000000000%\n",
      "6    Eastern    2   34688          17.770000000000%\n",
      "7    Eastern    3   76072          38.970000000000%\n",
      "8    Eastern    4   72717          37.250000000000%\n",
      "9    Eastern    5   10569           5.410000000000%\n",
      "10       IWK    1     539           0.670000000000%\n",
      "11       IWK    2   20054          24.960000000000%\n",
      "12       IWK    3   28154          35.040000000000%\n",
      "13       IWK    4   30610          38.090000000000%\n",
      "14       IWK    5     996           1.240000000000%\n",
      "15  Northern    1     911           0.450000000000%\n",
      "16  Northern    2   32150          15.920000000000%\n",
      "17  Northern    3   77868          38.560000000000%\n",
      "18  Northern    4   78493          38.870000000000%\n",
      "19  Northern    5   12533           6.210000000000%\n",
      "20   Western    1    1225           0.430000000000%\n",
      "21   Western    2   43281          15.340000000000%\n",
      "22   Western    3  114143          40.460000000000%\n",
      "23   Western    4  109521          38.820000000000%\n",
      "24   Western    5   13955           4.950000000000%\n"
     ]
    }
   ],
   "source": [
    "# SQL query\n",
    "query = \"\"\"\n",
    "\n",
    "SELECT\n",
    "    Zone,\n",
    "    CTAS,\n",
    "    SUM(Actual) AS Actual,\n",
    "    CONCAT(ROUND(SUM(Actual) * 100.0 / SUM(SUM(Actual)) OVER (PARTITION BY Zone), 2), '%') AS [Actual (Percent of Total)]\n",
    "FROM dbo.Hospital_Service_Volumes\n",
    "WHERE \n",
    "    CTAS IS NOT NULL AND \n",
    "    CTAS <> '0' AND \n",
    "    CTAS <> 'Blank' AND\n",
    "    YEAR(Date) IN (2022, 2023) -- Filter for the years 2022 and 2023\n",
    "GROUP BY Zone, CTAS\n",
    "ORDER BY Zone, CTAS;\n",
    "\"\"\"\n",
    "\n",
    "\n",
    "try:\n",
    "    df = pd.read_sql(query, engine)\n",
    "    print(df)  \n",
    "except Exception as e:\n",
    "    print(f\"Error executing SQL query: {str(e)}\")"
   ]
  },
  {
   "cell_type": "markdown",
   "id": "c5c712a7-1642-44ea-907e-1fadf6a626da",
   "metadata": {},
   "source": [
    "### Explanation\n",
    "\n",
    "- **SQL Query**: This SQL query retrieves data from the `Hospital_Service_Volumes` table and calculates the percentage of `Actual` values relative to the total `Actual` values for each `Zone` and `CTAS` category.\n",
    "\n",
    "  - **Columns Selected**: \n",
    "    - `Zone`: Specifies the geographical zone.\n",
    "    - `CTAS`: Represents the Canadian Triage and Acuity Scale category.\n",
    "    - `SUM(Actual) AS Actual`: Calculates the total sum of `Actual` values for each `Zone` and `CTAS`.\n",
    "    - `CONCAT(ROUND(SUM(Actual) * 100.0 / SUM(SUM(Actual)) OVER (PARTITION BY Zone), 2), '%') AS [Actual (Percent of Total)]`: Computes the percentage of `Actual` values relative to the total `Actual` values within each `Zone`.\n",
    "\n",
    "  - **Filters**: \n",
    "    - `CTAS IS NOT NULL`: Ensures that the `CTAS` column is not null.\n",
    "    - `CTAS <> '0'`: Excludes rows where `CTAS` is '0'.\n",
    "    - `CTAS <> 'Blank'`: Excludes rows where `CTAS` is 'Blank'.\n",
    "    - `YEAR(Date) IN (2022, 2023)`: Filters data for the years 2022 and 2023 based on the `Date` column.\n",
    "\n",
    "  - **Grouping**: \n",
    "    - Groups the results by `Zone` and `CTAS` to calculate sums and percentages within each category.\n",
    "\n",
    "  - **Ordering**: \n",
    "    - Orders the results first by `Zone` and then by `CTAS`.\n",
    "\n",
    "- **Error Handling**: \n",
    "  - The `try` block attempts to execute the SQL query using Pandas `read_sql` function and displays the resulting DataFrame (`df`).\n",
    "  - If an exception occurs during the execution (e.g., SQL query error), the `except` block catches the exception (`Exception as e`) and prints an error message indicating the issue (`Error executing SQL query: {str(e)}`).\n"
   ]
  },
  {
   "cell_type": "markdown",
   "id": "e633c734-bcea-4143-867c-22cae93b1111",
   "metadata": {},
   "source": [
    "## Number of Emergency Visits by Zone for 2022 and 2023"
   ]
  },
  {
   "cell_type": "code",
   "execution_count": 24,
   "id": "5b22517d-04b3-43e0-8905-63d6d11ae51e",
   "metadata": {},
   "outputs": [
    {
     "name": "stdout",
     "output_type": "stream",
     "text": [
      "       Zone  Number_of_Emergency_Visits\n",
      "0  Northern                      202403\n",
      "1   Eastern                      196456\n",
      "2   Western                      282161\n",
      "3       IWK                       81445\n",
      "4   Central                      383267\n"
     ]
    }
   ],
   "source": [
    "# SQL query\n",
    "query = \"\"\"\n",
    "\n",
    "SELECT\n",
    "    Zone,\n",
    "    SUM(Actual) AS Number_of_Emergency_Visits\n",
    "FROM dbo.Hospital_Service_Volumes\n",
    "WHERE \n",
    "    Measure_Name = 'Emergency Visits' AND \n",
    "    YEAR(Date) IN (2022, 2023) -- Filter for the years 2022 and 2023\n",
    "GROUP BY Zone;\n",
    "\"\"\"\n",
    "\n",
    "\n",
    "try:\n",
    "    df = pd.read_sql(query, engine)\n",
    "    print(df)  \n",
    "except Exception as e:\n",
    "    print(f\"Error executing SQL query: {str(e)}\")"
   ]
  },
  {
   "cell_type": "markdown",
   "id": "60607117-1080-4df6-ae4b-9e32441ba2fd",
   "metadata": {},
   "source": [
    "### Explanation\n",
    "\n",
    "- **SQL Query**: This SQL query retrieves data from the `Hospital_Service_Volumes` table to calculate the total number of emergency visits (`Actual`) grouped by `Zone` for the years 2022 and 2023.\n",
    "\n",
    "  - **Columns Selected**: \n",
    "    - `Zone`: Represents the geographical zone.\n",
    "    - `SUM(Actual) AS Number_of_Emergency_Visits`: Calculates the total sum of `Actual` values (number of emergency visits) for each `Zone`.\n",
    "\n",
    "  - **Filters**: \n",
    "    - `Measure_Name = 'Emergency Visits'`: Filters rows where the `Measure_Name` column equals 'Emergency Visits'.\n",
    "    - `YEAR(Date) IN (2022, 2023)`: Filters data for the years 2022 and 2023 based on the `Date` column.\n",
    "\n",
    "  - **Grouping**: \n",
    "    - Groups the results by `Zone` to aggregate the total number of emergency visits within each zone."
   ]
  },
  {
   "cell_type": "markdown",
   "id": "0ebbed7f-34d5-4ddc-867f-fa59b0ef4acc",
   "metadata": {},
   "source": [
    "## Trend of Emergency Visits by CTAS Level - Semi-Annual Data for 2022 and 2023"
   ]
  },
  {
   "cell_type": "code",
   "execution_count": 25,
   "id": "a0cd3202-1f27-412d-a698-961fbe208a7f",
   "metadata": {},
   "outputs": [
    {
     "name": "stdout",
     "output_type": "stream",
     "text": [
      "       Zone CTAS  Year HalfYear  Total_Visits\n",
      "0   Central    1  2022       H1           944\n",
      "1   Central    1  2022       H2          1108\n",
      "2   Central    1  2023       H1          1081\n",
      "3   Central    1  2023       H2          1236\n",
      "4   Central    2  2022       H1         24720\n",
      "..      ...  ...   ...      ...           ...\n",
      "95  Western    4  2023       H2         26480\n",
      "96  Western    5  2022       H1          4520\n",
      "97  Western    5  2022       H2          3648\n",
      "98  Western    5  2023       H1          3003\n",
      "99  Western    5  2023       H2          2784\n",
      "\n",
      "[100 rows x 5 columns]\n"
     ]
    }
   ],
   "source": [
    "# SQL query\n",
    "query = \"\"\"\n",
    "\n",
    "WITH SemiAnnualData AS (\n",
    "    SELECT \n",
    "        Zone,\n",
    "        CTAS,\n",
    "        DATEPART(YEAR, Date) AS Year,\n",
    "        CASE \n",
    "            WHEN DATEPART(MONTH, Date) BETWEEN 1 AND 6 THEN 'H1'\n",
    "            WHEN DATEPART(MONTH, Date) BETWEEN 7 AND 12 THEN 'H2'\n",
    "        END AS HalfYear,\n",
    "        SUM(Actual) AS Total_Visits\n",
    "    FROM \n",
    "        dbo.Hospital_Service_Volumes -- Replace with your actual table name\n",
    "    WHERE \n",
    "        Measure_Name = 'Emergency Visits CTAS' \n",
    "        AND DATEPART(YEAR, Date) IN (2022, 2023)\n",
    "        AND CTAS IS NOT NULL \n",
    "        AND CTAS <> 'Blank'\n",
    "        AND CTAS <> 0\n",
    "    GROUP BY \n",
    "        Zone,\n",
    "        CTAS,\n",
    "        DATEPART(YEAR, Date),\n",
    "        CASE \n",
    "            WHEN DATEPART(MONTH, Date) BETWEEN 1 AND 6 THEN 'H1'\n",
    "            WHEN DATEPART(MONTH, Date) BETWEEN 7 AND 12 THEN 'H2'\n",
    "        END\n",
    ")\n",
    "SELECT \n",
    "    Zone,\n",
    "    CTAS,\n",
    "    Year,\n",
    "    HalfYear,\n",
    "    Total_Visits\n",
    "FROM \n",
    "    SemiAnnualData\n",
    "ORDER BY \n",
    "    Zone,\n",
    "    CTAS,\n",
    "    Year,\n",
    "    HalfYear;\n",
    "\"\"\"\n",
    "\n",
    "\n",
    "try:\n",
    "    df = pd.read_sql(query, engine)\n",
    "    print(df)  \n",
    "except Exception as e:\n",
    "    print(f\"Error executing SQL query: {str(e)}\")"
   ]
  },
  {
   "cell_type": "markdown",
   "id": "1a4ea4c3-b0c4-49c2-b0d4-5e9e37c3e161",
   "metadata": {},
   "source": [
    "### Explanation\n",
    "\n",
    "- **SQL Query**: This SQL query retrieves data from the `Hospital_Service_Volumes` table to calculate the total number of emergency visits (`Actual`) grouped by `Zone`, `CTAS`, year, and half-year (H1 for January to June, H2 for July to December) for the years 2022 and 2023.\n",
    "\n",
    "  - **Common Table Expression (CTE) - SemiAnnualData**:\n",
    "    - Calculates the sum of `Actual` visits (`Total_Visits`) for each combination of `Zone`, `CTAS`, `Year`, and `HalfYear`.\n",
    "    - Filters data where `Measure_Name` is 'Emergency Visits CTAS', `Date` year is either 2022 or 2023, and `CTAS` is not null, not 'Blank', and not equal to 0.\n",
    "    - Uses `DATEPART` function to extract the year and determine the half-year based on the month of the `Date`.\n",
    "\n",
    "  - **Main Query**:\n",
    "    - Selects columns `Zone`, `CTAS`, `Year`, `HalfYear`, and `Total_Visits` from `SemiAnnualData`.\n",
    "    - Orders the results by `Zone`, `CTAS`, `Year`, and `HalfYear` for clarity and organization."
   ]
  }
 ],
 "metadata": {
  "kernelspec": {
   "display_name": "Python 3 (ipykernel)",
   "language": "python",
   "name": "python3"
  },
  "language_info": {
   "codemirror_mode": {
    "name": "ipython",
    "version": 3
   },
   "file_extension": ".py",
   "mimetype": "text/x-python",
   "name": "python",
   "nbconvert_exporter": "python",
   "pygments_lexer": "ipython3",
   "version": "3.10.13"
  }
 },
 "nbformat": 4,
 "nbformat_minor": 5
}
